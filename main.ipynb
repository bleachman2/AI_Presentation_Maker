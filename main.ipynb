{
 "cells": [
  {
   "cell_type": "markdown",
   "metadata": {},
   "source": [
    "# Power Point Presentation maker"
   ]
  },
  {
   "cell_type": "markdown",
   "metadata": {},
   "source": [
    "## Configs\n",
    "Load the Api keys from the environment, and create some basic util functions"
   ]
  },
  {
   "cell_type": "code",
   "execution_count": 1,
   "metadata": {},
   "outputs": [],
   "source": [
    "from __future__ import annotations\n",
    "\n",
    "import os\n",
    "\n",
    "from dotenv import load_dotenv\n",
    "\n",
    "load_dotenv()\n",
    "api_key = os.environ.get(\"OPENAI_API_KEY\")\n",
    "if not api_key:\n",
    "    msg = \"Missing API_KEY\"\n",
    "    raise OSError(msg)"
   ]
  },
  {
   "cell_type": "code",
   "execution_count": 2,
   "metadata": {},
   "outputs": [],
   "source": [
    "import string\n",
    "\n",
    "\n",
    "def remove_punctuation(text: str) -> str:\n",
    "    translator = str.maketrans(\"\", \"\", string.punctuation)\n",
    "    return text.translate(translator)"
   ]
  },
  {
   "cell_type": "markdown",
   "metadata": {},
   "source": [
    "## Using OpenAI chat with structured Format to get the PPT content\n",
    "\n",
    "[OpenAI docs - structured format](https://platform.openai.com/docs/guides/structured-outputs)\n",
    "[Pydantic](https://docs.pydantic.dev/latest/) is being used to pass a Structured Format to OpenAI in order to receive correctly formatted response. "
   ]
  },
  {
   "cell_type": "code",
   "execution_count": 3,
   "metadata": {},
   "outputs": [],
   "source": [
    "from pydantic import BaseModel\n",
    "\n",
    "\n",
    "class SingleSlide(BaseModel):\n",
    "    Slide_Number: int\n",
    "    Slide_Title: str\n",
    "    Slide_Text: str\n",
    "    Image_Prompt: str\n",
    "\n",
    "\n",
    "class ResponseFormat(BaseModel):\n",
    "    slide: list[SingleSlide]\n",
    "\n",
    "\n",
    "class ResponseFormatBase(BaseModel):\n",
    "    text: str"
   ]
  },
  {
   "cell_type": "code",
   "execution_count": 4,
   "metadata": {},
   "outputs": [],
   "source": [
    "from typing import TypeVar\n",
    "\n",
    "from pydantic import ValidationError\n",
    "\n",
    "T = TypeVar(\"T\", bound=BaseModel)\n",
    "\n",
    "\n",
    "def validate_response(response: T | None, cls: type[T]) -> T:\n",
    "    try:\n",
    "        return cls.model_validate(response)\n",
    "    except ValidationError as e:\n",
    "        print(f\"Error Validating response -> {response} \\n {e}\")\n",
    "        raise"
   ]
  },
  {
   "cell_type": "code",
   "execution_count": 5,
   "metadata": {},
   "outputs": [],
   "source": [
    "from openai import OpenAI\n",
    "\n",
    "\n",
    "def chat_completion(prompt: str, response_format: type[T]) -> T | None:\n",
    "    client = OpenAI(api_key=api_key)\n",
    "    completion = client.beta.chat.completions.parse(\n",
    "        model=\"gpt-4o-mini\",\n",
    "        messages=[\n",
    "            {\"role\": \"user\", \"content\": prompt},\n",
    "        ],\n",
    "        response_format=response_format,\n",
    "    )\n",
    "    return completion.choices[0].message.parsed"
   ]
  },
  {
   "cell_type": "markdown",
   "metadata": {},
   "source": [
    "## Prompts\n",
    "2 Prompts are being used to generate the response, the first generates a PPT outline, and the second uses that outline to generate the PPT content"
   ]
  },
  {
   "cell_type": "code",
   "execution_count": 6,
   "metadata": {},
   "outputs": [],
   "source": [
    "from prompts import PPT_prompt, notes_prompt, outline_prompt\n",
    "\n",
    "first_chat = validate_response(\n",
    "    chat_completion(outline_prompt, ResponseFormatBase),\n",
    "    ResponseFormatBase,\n",
    ")\n",
    "second_chat = validate_response(\n",
    "    chat_completion(PPT_prompt + \"# Outline\\n\" + first_chat.text, ResponseFormat),\n",
    "    ResponseFormat,\n",
    ")\n"
   ]
  },
  {
   "cell_type": "markdown",
   "metadata": {},
   "source": [
    "# Notes\n",
    "\n",
    "Create a markdown file with notes to accompany the presentation"
   ]
  },
  {
   "cell_type": "code",
   "execution_count": 7,
   "metadata": {},
   "outputs": [],
   "source": [
    "from pathlib import Path\n",
    "\n",
    "notes_chat = validate_response(\n",
    "    chat_completion(\n",
    "        notes_prompt + f\"# Slide Content\\n{second_chat.slide}\",\n",
    "        ResponseFormatBase,\n",
    "    ),\n",
    "    ResponseFormatBase,\n",
    ")\n",
    "\n",
    "with Path(\"results/notes.md\").open(\"w\", encoding=\"utf-8\") as f:\n",
    "    f.write(notes_chat.text)"
   ]
  },
  {
   "cell_type": "code",
   "execution_count": 8,
   "metadata": {},
   "outputs": [
    {
     "name": "stdout",
     "output_type": "stream",
     "text": [
      "# PowerPoint Presentation Outline: \"Practical Uses of AI on a Daily Basis for Developers\"\n",
      "\n",
      "## Slide 1: Introduction\n",
      "- Presenter Name: [Your Name]\n",
      "- Presentation Topic: Practical Uses of AI on a Daily Basis for Developers\n",
      "- Brief overview: Importance of AI in enhancing productivity in development practices.\n",
      "\n",
      "## Slide 2: AI Tools for Searching\n",
      "- **Perplexity**  \n",
      "  - Definition: AI-powered search engine that synthesizes information.\n",
      "  - Use Case: Quickly finding code examples and documentation.  \n",
      "- **ChatGPT Search**  \n",
      "  - Definition: Conversational AI that can interpret queries.\n",
      "  - Use Case: Getting instant answers to technical questions while coding.\n",
      "\n",
      "## Slide 3: AI Tools for Research\n",
      "- **NotebookLM**  \n",
      "  - Definition: AI tool built for developers to keep notes, snippets, and references.\n",
      "  - Use Case: Organizing research materials and coding notes in one place.\n",
      "- **Other Research Tools** (mention briefly):  \n",
      "  - Katalon Studio (for testing)\n",
      "  - GitHub Copilot (for code suggestions)  \n",
      "\n",
      "## Slide 4: AI Tools for Transcriptions and Meetings\n",
      "- **OtterAI**  \n",
      "  - Definition: Transcription service that captures conversations accurately.\n",
      "  - Use Case: Recording meetings and extracting action items for follow-ups.\n",
      "- **Other Notable Tools**:  \n",
      "  - Microsoft Teams (integrated transcription)\n",
      "  - Rev (accurate speech-to-text service)\n",
      "\n",
      "## Slide 5: AI Tools for Note-Taking\n",
      "- **Notion AI**  \n",
      "  - Definition: AI enhancements in Notion to summarize and organize notes.\n",
      "  - Use Case: Creating structured documentation with AI assistance.\n",
      "- **Obsidian with AI Plugins**  \n",
      "  - Definition: Markdown-based note-taking with AI-powered features.\n",
      "  - Use Case: Linking thoughts and ideas intelligently for complex projects.\n",
      "\n",
      "## Slide 6: Additional AI Tools\n",
      "- **Jira Automation (AI features)**  \n",
      "  - Definition: Automate common Jira tasks through AI.\n",
      "  - Use Case: Streamlining project management and reducing manual input.\n",
      "- **Test.ai**  \n",
      "  - Definition: AI testing software that automates UI testing processes.\n",
      "  - Use Case: Speeding up testing workflows significantly.\n",
      "\n",
      "## Slide 7: API and Automation Tools\n",
      "- **OpenAI API**  \n",
      "  - Definition: Access to powerful language models for integration.\n",
      "  - Use Case: Build custom applications or chatbots for user support.\n",
      "- **Zapier with AI Integrations**  \n",
      "  - Definition: Automate workflows using various apps and AI.\n",
      "  - Use Case: Connecting developer tools and automating repetitive tasks.\n",
      "\n",
      "## Slide 8: Q/A Slide\n",
      "- Invitation for Questions  \n",
      "  - Encourage audience participation and discussion.\n",
      "  - Provide contact information for follow-up queries.\n",
      "  \n",
      "---\n",
      "\n",
      "## Summary\n",
      "- Each slide should include practical examples and highlight how these tools can significantly boost a developer's efficiency and workflow.\n"
     ]
    }
   ],
   "source": [
    "print(first_chat.text)"
   ]
  },
  {
   "cell_type": "code",
   "execution_count": 9,
   "metadata": {},
   "outputs": [
    {
     "name": "stdout",
     "output_type": "stream",
     "text": [
      "1->Introduction\n",
      "Practical Uses of AI on a Daily Basis for Developers\n",
      "\n",
      "Importance of AI in enhancing productivity in development practices\n",
      "Overview of how AI tools can streamline workflows\n",
      "Encouragement to leverage AI for better efficiency and innovation\n",
      "\n",
      "An abstract depiction of an AI brain interconnected with gears and coding symbols, illustrating the synergy between artificial intelligence and software development.\n",
      "\n",
      "2->AI Tools for Searching\n",
      "Perplexity: An AI-powered search engine that synthesizes information\n",
      "Quickly finds code examples and documentation, improving coding efficiency\n",
      "ChatGPT Search: A conversational AI that interprets queries effectively\n",
      "Provides instant answers to technical questions while coding, reducing time spent on doubt\n",
      "\n",
      "An abstract visualization of a digital brain interacting with floating search elements and coding snippets, representing advanced AI searches.\n",
      "\n",
      "3->AI Tools for Research\n",
      "NotebookLM: An AI tool designed for developers to manage notes and references\n",
      "Organizes research materials and coding notes in a comprehensive manner\n",
      "Other Research Tools: Katalon Studio for testing, GitHub Copilot for intelligent code suggestions\n",
      "Brief mention of their roles in enhancing developer productivity during research\n",
      "\n",
      "An abstract art piece showcasing digital notebooks and interconnected nodes, symbolizing organized research and development notes.\n",
      "\n",
      "4->AI Tools for Transcriptions and Meetings\n",
      "OtterAI: A transcription service that accurately captures conversations\n",
      "Records meetings and extracts actionable insights for follow-ups\n",
      "Notable Tools: Microsoft Teams with integrated transcription, Rev for precise speech-to-text\n",
      "Illustrates the efficiency of using AI in managing meeting documentation\n",
      "\n",
      "An abstract design of overlapping sound waves and digital notes, representing the process of recording and transcribing meetings.\n",
      "\n",
      "5->AI Tools for Note-Taking\n",
      "Notion AI: Enhances note-taking capabilities by summarizing and organizing notes\n",
      "Allows the creation of structured documentation with AI support\n",
      "Obsidian with AI Plugins: A markdown-based note-taking tool with intelligent linking\n",
      "Facilitates the management of complex ideas and projects through AI integration\n",
      "\n",
      "A creative abstraction of interconnected notes and ideas, integrated with AI circuitry, visualizing intelligent note-taking.\n",
      "\n",
      "6->Additional AI Tools\n",
      "Jira Automation: Uses AI to automate common project management tasks\n",
      "Streamlines project management, enhancing productivity and accuracy\n",
      "Test.ai: An AI testing solution that automates UI testing processes\n",
      "Significantly speeds up testing workflows, allowing more focus on development\n",
      "\n",
      "An abstract graphic representing a workflow process, combining elements of automation and AI with testing scenarios.\n",
      "\n",
      "7->API and Automation Tools\n",
      "OpenAI API: Provides access to powerful language models for custom integration\n",
      "Enables building tailored applications or chatbots for enhanced user experience\n",
      "Zapier with AI Integrations: Automates workflows connecting various applications\n",
      "Facilitates developers in connecting tools and streamlining repetitive tasks effortlessly\n",
      "\n",
      "An abstract illustration of interconnected digital tools intertwined with clouds of AI, symbolizing automation and integration.\n",
      "\n",
      "8->Q/A Slide\n",
      "Invitation for Audience Questions: Encouraging engagement and discussion\n",
      "Open floor for participants to discuss AI tools and their experiences\n",
      "Contact Information: Provide details for follow-up and further inquiries regarding AI implementation in development\n",
      "\n",
      "A stylized abstract representation of a speech bubble and question mark icons, conveying open dialogue and participation.\n",
      "\n"
     ]
    }
   ],
   "source": [
    "for i in second_chat.slide:\n",
    "    print(f\"{i.Slide_Number}->{i.Slide_Title}\\n{i.Slide_Text}\\n{i.Image_Prompt}\\n\")"
   ]
  },
  {
   "cell_type": "code",
   "execution_count": 10,
   "metadata": {},
   "outputs": [
    {
     "name": "stdout",
     "output_type": "stream",
     "text": [
      "# Slide 1: Introduction\n",
      "\n",
      "## Presenter Notes\n",
      "Welcome to our session on 'Practical Uses of AI on a Daily Basis for Developers.' Today, we're going to dive into how artificial intelligence is not just a buzzword but a transformative tool that can significantly enhance our work as developers.  In the software development landscape, time is of the essence, and AI offers us innovative solutions to streamline our workflows. As we explore the various AI tools available, think of how they can be integrated into your own projects to innovate and increase productivity. I encourage you to ask questions and engage throughout this presentation, as interaction often sparks the best insights.\n",
      "\n",
      "# Slide 2: AI Tools for Searching\n",
      "\n",
      "## Presenter Notes\n",
      "Moving into our first category, **AI Tools for Searching**. One standout tool is **Perplexity**, which is an AI-powered search engine. This platform goes beyond traditional search engines by synthesizing information, allowing you to retrieve relevant code examples and documentation swiftly. By using such tools, you can drastically reduce the time spent searching for solutions, leaving you with more time to code. Additionally, **ChatGPT Search** acts as a conversational partner, interpreting queries effectively and delivering instant answers to your technical questions. Imagine being deep in your coding flow, and with a simple prompt, you get direct, actionable insights on a problem you’re facing, which could save you hours in debugging. Isn’t that powerful?\n",
      "\n",
      "# Slide 3: AI Tools for Research\n",
      "\n",
      "## Presenter Notes\n",
      "Next, let's delve into **AI Tools for Research**. A tool that has gained traction is **NotebookLM**, specifically designed for developers to manage research materials and coding notes. This tool helps organize your insights, making them easily accessible for quick reference during your coding sessions. In addition to NotebookLM, tools like **Katalon Studio** for testing and **GitHub Copilot** for intelligent code suggestions enhance productivity by providing robust research resources and integrated coding assistance. For example, GitHub Copilot can assist in writing boilerplate code, which allows developers to focus more on logic and functionality rather than repetitive tasks. These tools play an essential role in elevating the research process, making it more efficient and less cumbersome.\n",
      "\n",
      "# Slide 4: AI Tools for Transcriptions and Meetings\n",
      "\n",
      "## Presenter Notes\n",
      "There’s no denying that meetings are a critical part of our workflow, but they can also create a challenge in managing our time effectively. Here’s where **OtterAI** comes into play. This intelligent transcription service accurately captures conversations during meetings, transforming spoken dialogue into actionable written insights. It’s not just about being able to listen to meetings; it’s about having a reliable resource that extracts the most pertinent information for follow-ups. We also have other notable tools like **Microsoft Teams**, which integrates transcription capabilities, and **Rev** for precise speech-to-text services. With these tools, developers can spend less time writing notes and more time focusing on their core responsibilities, making meetings highly productive.\n",
      "\n",
      "# Slide 5: AI Tools for Note-Taking\n",
      "\n",
      "## Presenter Notes\n",
      "Moving forward, let’s discuss **AI Tools for Note-Taking**. **Notion AI** is revolutionizing how developers take notes by summarizing information and organizing content in a structured way. Imagine being able to review a lengthy documentation summary at the click of a button! On the other hand, **Obsidian with AI Plugins** offers a markdown-based note-taking solution that utilizes intelligent linking to manage complex ideas and projects effectively. This functionality is invaluable for developers managing multifaceted projects with numerous moving parts. By adopting these tools, you can cultivate an organized repository of information that aids in project management and development.\n",
      "\n",
      "# Slide 6: Additional AI Tools\n",
      "\n",
      "## Presenter Notes\n",
      "In this section, we'll touch on **Additional AI Tools** that are particularly beneficial in the development landscape. **Jira Automation** leverages AI to streamline project management, automating routine tasks that often bog down teams. This not only saves time but significantly enhances accuracy in tracking progress and deadlines. Similarly, **Test.ai** stands out as an AI testing solution automating UI testing processes, allowing developers to devote more time to developing and enhancing software features, rather than getting tangled in testing minutiae. These AI-powered tools not only increase productivity but also improve the overall quality of the work produced.\n",
      "\n",
      "# Slide 7: API and Automation Tools\n",
      "\n",
      "## Presenter Notes\n",
      "Let’s turn our attention to **API and Automation Tools**. The **OpenAI API** grants developers access to powerful language models that enable custom integration into your applications. This opens up a world of possibilities for building tailored user experiences, such as intricate chatbots that can handle customer inquiries efficiently. Coupled with tools like **Zapier**, which facilitates connectivity between various applications to automate workflows, developers can now streamline repetitive tasks effortlessly. With these integrations, imagine how much time and energy you could save on routine work, allowing you to focus on what truly matters in your projects.\n",
      "\n",
      "# Slide 8: Q/A Slide\n",
      "\n",
      "## Presenter Notes\n",
      "As we reach the end of our presentation, I want to open the floor to any questions. Your insights and experiences with AI tools can enrich our discussion, so don't hesitate to share. This is a great opportunity for us all to learn from each other! Additionally, I’ll provide contact information for anyone looking to delve deeper into the implications of AI in development after this meeting. It’s essential to foster a community where we can freely exchange ideas and support one another as we navigate these exciting advancements.\n"
     ]
    }
   ],
   "source": [
    "print(notes_chat.text)"
   ]
  },
  {
   "cell_type": "markdown",
   "metadata": {},
   "source": [
    "## Function to create images with Stable Diffusion\n",
    "\n",
    "Using a local Stable Diffusion API to create the images, currently using the [WebUI Forge API](https://github.com/lllyasviel/stable-diffusion-webui-forge)."
   ]
  },
  {
   "cell_type": "code",
   "execution_count": 11,
   "metadata": {},
   "outputs": [],
   "source": [
    "import base64\n",
    "\n",
    "import requests\n",
    "\n",
    "# Define the URL and the payload to send.\n",
    "url = \"http://127.0.0.1:7860\"\n",
    "\n",
    "\n",
    "def imagecreator(prompt: str, name: str, width: int, height: int) -> None:\n",
    "    \"\"\"Access local Stable Diffusion to create images.\n",
    "\n",
    "    Args:\n",
    "        prompt (str): prompt for image creation\n",
    "        name (str): Name of the resulting image\n",
    "        width (int): Image Width\n",
    "        height (int): Image Height\n",
    "\n",
    "    \"\"\"\n",
    "    payload = {\n",
    "        \"prompt\": prompt,\n",
    "        \"styles\": [\"Avant-garde\"],\n",
    "        \"steps\": 20,\n",
    "        \"sampler_name\": \"DPM++ 2M\",\n",
    "        \"scheduler\": \"Beta\",\n",
    "        \"cfg_scale\": 1,\n",
    "        \"width\": width,\n",
    "        \"height\": height,\n",
    "    }\n",
    "\n",
    "    # Send said payload to said URL through the API.\n",
    "    response = requests.post(url=f\"{url}/sdapi/v1/txt2img\", json=payload, timeout=300)\n",
    "    r = response.json()\n",
    "\n",
    "    # Decode and save the image.\n",
    "    with Path(f\"images/{name}.png\").open(\"wb\") as f:\n",
    "        f.write(base64.b64decode(r[\"images\"][0]))"
   ]
  },
  {
   "cell_type": "markdown",
   "metadata": {},
   "source": [
    "## Create a PPTX with the responses generated with ChatGPT and the Stable Diffusion images\n",
    "\n",
    "Using the [Python-pptx](https://python-pptx.readthedocs.io/en/latest/index.html) library for PowerPoint creation"
   ]
  },
  {
   "cell_type": "markdown",
   "metadata": {},
   "source": [
    "Check Available Layouts"
   ]
  },
  {
   "cell_type": "code",
   "execution_count": 12,
   "metadata": {},
   "outputs": [
    {
     "name": "stdout",
     "output_type": "stream",
     "text": [
      "0: Title Slide\n",
      "1: Title and Content\n",
      "2: Section Header\n",
      "3: Two Content\n",
      "4: Comparison\n",
      "5: Title Only\n",
      "6: Blank\n",
      "7: Content with Caption\n",
      "8: Picture with Caption\n",
      "9: Title and Vertical Text\n",
      "10: Vertical Title and Text\n"
     ]
    }
   ],
   "source": [
    "from pptx import Presentation\n",
    "\n",
    "prs = Presentation()\n",
    "for idx, layout in enumerate(prs.slide_layouts):\n",
    "    print(f\"{idx}: {layout.name}\")"
   ]
  },
  {
   "cell_type": "markdown",
   "metadata": {},
   "source": [
    "# PPT Creation\n",
    "The Previous OpenAI chat returned a Title, Text and a prompt for image creation\n",
    "This information is being added to basic empty slides\n",
    "\n",
    "## Manual Step\n",
    "After the PPT is created, the PPT is getting manually opened and the slides are organized using the designer option inside the software"
   ]
  },
  {
   "cell_type": "code",
   "execution_count": 13,
   "metadata": {},
   "outputs": [],
   "source": [
    "from pptx import Presentation\n",
    "from pptx.util import Inches\n",
    "\n",
    "prs = Presentation()\n",
    "title_slide_layout = prs.slide_layouts[0]\n",
    "\n",
    "for ai_slide in second_chat.slide:\n",
    "    slide = prs.slides.add_slide(title_slide_layout)\n",
    "\n",
    "    # Remove Punctuation from title\n",
    "    slide_title = remove_punctuation(ai_slide.Slide_Title)\n",
    "\n",
    "    # Add background image\n",
    "    left = top = Inches(0)\n",
    "    slide_width = prs.slide_width\n",
    "    slide_height = prs.slide_height\n",
    "    # Create Image\n",
    "    imagecreator(\n",
    "        ai_slide.Image_Prompt,\n",
    "        slide_title,\n",
    "        955,\n",
    "        537,\n",
    "    )\n",
    "    # Add Image to slide\n",
    "    pic = slide.shapes.add_picture(\n",
    "        str(Path(f\"images/{slide_title}.png\")),\n",
    "        left,\n",
    "        top,\n",
    "        slide_width,\n",
    "        slide_height,\n",
    "    )\n",
    "\n",
    "    # Add Text\n",
    "    title_shape = slide.shapes.title\n",
    "    if title_shape is None:\n",
    "        msg = \"Shape is None\"\n",
    "        raise ValueError(msg)\n",
    "    title_shape.text = ai_slide.Slide_Title\n",
    "\n",
    "    body_shape = slide.shapes.placeholders[1]\n",
    "    tf = body_shape.text_frame  # type: ignore[reportAttributeAccessIssue]\n",
    "    tf.text = ai_slide.Slide_Text\n",
    "\n",
    "\n",
    "prs.save(str(Path(\"results/test.pptx\")))"
   ]
  }
 ],
 "metadata": {
  "kernelspec": {
   "display_name": ".venv",
   "language": "python",
   "name": "python3"
  },
  "language_info": {
   "codemirror_mode": {
    "name": "ipython",
    "version": 3
   },
   "file_extension": ".py",
   "mimetype": "text/x-python",
   "name": "python",
   "nbconvert_exporter": "python",
   "pygments_lexer": "ipython3",
   "version": "3.13.0"
  }
 },
 "nbformat": 4,
 "nbformat_minor": 2
}
