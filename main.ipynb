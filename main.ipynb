{
 "cells": [
  {
   "cell_type": "markdown",
   "metadata": {},
   "source": [
    "# Power Point Presentation maker"
   ]
  },
  {
   "cell_type": "markdown",
   "metadata": {},
   "source": [
    "## Configs"
   ]
  },
  {
   "cell_type": "code",
   "execution_count": 3,
   "metadata": {},
   "outputs": [],
   "source": [
    "import os\n",
    "\n",
    "from dotenv import load_dotenv\n",
    "from openai import OpenAI\n",
    "from pydantic import BaseModel\n",
    "\n",
    "load_dotenv()\n",
    "api_key = os.environ.get(\"OPENAI_API_KEY\")\n",
    "if not api_key:\n",
    "    msg = \"Missing API_KEY\"\n",
    "    raise OSError(msg)"
   ]
  },
  {
   "cell_type": "code",
   "execution_count": 14,
   "metadata": {},
   "outputs": [],
   "source": [
    "class SingleSlide(BaseModel):\n",
    "    title: str\n",
    "    subtitle: str\n",
    "    visual: str\n",
    "\n",
    "class ResponseFormat(BaseModel):\n",
    "    slide: list[SingleSlide]"
   ]
  },
  {
   "cell_type": "code",
   "execution_count": 13,
   "metadata": {},
   "outputs": [
    {
     "name": "stdout",
     "output_type": "stream",
     "text": [
      "slide=[singleSlide(title='Introduction to AI Tools for Developers', subtitle='Enhancing Development Efficiency and Innovation', visual='Graphic showing the evolution of AI in software development.'), singleSlide(title='What are AI Tools?', subtitle='Understanding AI Integration in Development', visual='Infographic illustrating various AI tools and their uses.'), singleSlide(title='Key Benefits of AI Tools in Development', subtitle='Streamlining Processes and Improving Quality', visual='Chart showing efficiency improvement metrics with AI tools.'), singleSlide(title='AI Assistants for Code Generation', subtitle='Leveraging AI for Faster Coding', visual='Screenshot or demo of AI code generation tools like GitHub Copilot.'), singleSlide(title='Automated Testing Tools', subtitle='Enhancing Quality Assurance', visual='Flowchart of the automated testing process with AI tools.'), singleSlide(title='AI-Powered Debugging Tools', subtitle='Quick Identification and Resolution of Bugs', visual='Graph showing the reduction of debugging time with AI tools.'), singleSlide(title='Natural Language Processing for Documentation', subtitle='Improving Documentation Practices', visual='Before and after example of documentation improved by AI.'), singleSlide(title='AI in Project Management', subtitle='Optimizing Resource Allocation and Scheduling', visual='Gantt chart illustrating project management trends with AI.'), singleSlide(title='Ethical Considerations for AI Tools', subtitle='Addressing Responsibility in AI Development', visual='Diagram of ethical AI practices and considerations.'), singleSlide(title='Conclusion and Future Outlook', subtitle='The Future of AI Tools in Development', visual='Graphic showing projected trends in AI development tools.')]\n"
     ]
    }
   ],
   "source": [
    "from prompts import sys_prompt, usr_prompt\n",
    "\n",
    "client = OpenAI(api_key=api_key)\n",
    "completion = client.beta.chat.completions.parse(\n",
    "    model=\"gpt-4o-mini\",\n",
    "    messages=[\n",
    "        {\"role\": \"system\", \"content\":sys_prompt},\n",
    "        {\"role\": \"user\", \"content\": usr_prompt},\n",
    "    ],\n",
    "    response_format=ResponseFormat,\n",
    ")\n",
    "event = completion.choices[0].message.parsed"
   ]
  },
  {
   "cell_type": "code",
   "execution_count": 18,
   "metadata": {},
   "outputs": [
    {
     "name": "stdout",
     "output_type": "stream",
     "text": [
      "Introduction to AI Tools for Developers\n",
      "Enhancing Development Efficiency and Innovation\n",
      "Graphic showing the evolution of AI in software development.\n",
      "\n",
      "What are AI Tools?\n",
      "Understanding AI Integration in Development\n",
      "Infographic illustrating various AI tools and their uses.\n",
      "\n",
      "Key Benefits of AI Tools in Development\n",
      "Streamlining Processes and Improving Quality\n",
      "Chart showing efficiency improvement metrics with AI tools.\n",
      "\n",
      "AI Assistants for Code Generation\n",
      "Leveraging AI for Faster Coding\n",
      "Screenshot or demo of AI code generation tools like GitHub Copilot.\n",
      "\n",
      "Automated Testing Tools\n",
      "Enhancing Quality Assurance\n",
      "Flowchart of the automated testing process with AI tools.\n",
      "\n",
      "AI-Powered Debugging Tools\n",
      "Quick Identification and Resolution of Bugs\n",
      "Graph showing the reduction of debugging time with AI tools.\n",
      "\n",
      "Natural Language Processing for Documentation\n",
      "Improving Documentation Practices\n",
      "Before and after example of documentation improved by AI.\n",
      "\n",
      "AI in Project Management\n",
      "Optimizing Resource Allocation and Scheduling\n",
      "Gantt chart illustrating project management trends with AI.\n",
      "\n",
      "Ethical Considerations for AI Tools\n",
      "Addressing Responsibility in AI Development\n",
      "Diagram of ethical AI practices and considerations.\n",
      "\n",
      "Conclusion and Future Outlook\n",
      "The Future of AI Tools in Development\n",
      "Graphic showing projected trends in AI development tools.\n",
      "\n"
     ]
    }
   ],
   "source": [
    "for i in event.slide:\n",
    "    print(i.title)\n",
    "    print(i.subtitle)\n",
    "    print(i.visual)\n",
    "    print(\"\")"
   ]
  },
  {
   "cell_type": "code",
   "execution_count": 39,
   "metadata": {},
   "outputs": [],
   "source": [
    "import requests\n",
    "import base64\n",
    "\n",
    "# Define the URL and the payload to send.\n",
    "url = \"http://127.0.0.1:7860\"\n",
    "\n",
    "payload = {\n",
    "    \"prompt\": \"cute puppy\",\n",
    "    \"steps\": 20,\n",
    "    \"sampler_name\": \"DPM++ 2M\",\n",
    "    \"scheduler\":\"Beta\",\n",
    "    \"cfg_scale\":1\n",
    "}\n",
    "\n",
    "# Send said payload to said URL through the API.\n",
    "response = requests.post(url=f'{url}/sdapi/v1/txt2img', json=payload)\n",
    "r = response.json()\n",
    "\n",
    "# Decode and save the image.\n",
    "with open(\"output.png\", 'wb') as f:\n",
    "    f.write(base64.b64decode(r['images'][0]))"
   ]
  }
 ],
 "metadata": {
  "kernelspec": {
   "display_name": ".venv",
   "language": "python",
   "name": "python3"
  },
  "language_info": {
   "codemirror_mode": {
    "name": "ipython",
    "version": 3
   },
   "file_extension": ".py",
   "mimetype": "text/x-python",
   "name": "python",
   "nbconvert_exporter": "python",
   "pygments_lexer": "ipython3",
   "version": "3.13.0"
  }
 },
 "nbformat": 4,
 "nbformat_minor": 2
}
