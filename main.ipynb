{
 "cells": [
  {
   "cell_type": "markdown",
   "metadata": {},
   "source": [
    "# Power Point Presentation maker"
   ]
  },
  {
   "cell_type": "markdown",
   "metadata": {},
   "source": [
    "## Configs"
   ]
  },
  {
   "cell_type": "code",
   "execution_count": 2,
   "metadata": {},
   "outputs": [],
   "source": [
    "from __future__ import annotations\n",
    "\n",
    "import os\n",
    "\n",
    "from dotenv import load_dotenv\n",
    "from openai import OpenAI\n",
    "from pydantic import BaseModel\n",
    "\n",
    "load_dotenv()\n",
    "api_key = os.environ.get(\"OPENAI_API_KEY\")\n",
    "if not api_key:\n",
    "    msg = \"Missing API_KEY\"\n",
    "    raise OSError(msg)"
   ]
  },
  {
   "cell_type": "markdown",
   "metadata": {},
   "source": [
    "## Pydantic class as OpenAI's expected response format\n",
    "\n",
    "[OpenAI docs - structured format](https://platform.openai.com/docs/guides/structured-outputs)"
   ]
  },
  {
   "cell_type": "code",
   "execution_count": null,
   "metadata": {},
   "outputs": [],
   "source": [
    "# class SingleSlide(BaseModel):\n",
    "#     title: str\n",
    "#     content: str\n",
    "#     visual: str\n",
    "\n",
    "\n",
    "# class ResponseFormat(BaseModel):\n",
    "#     slide: list[SingleSlide]"
   ]
  },
  {
   "cell_type": "code",
   "execution_count": null,
   "metadata": {},
   "outputs": [],
   "source": [
    "# from prompts import sys_prompt, usr_prompt\n",
    "\n",
    "# client = OpenAI(api_key=api_key)\n",
    "# completion = client.beta.chat.completions.parse(\n",
    "#     model=\"gpt-4o-mini\",\n",
    "#     messages=[\n",
    "#         {\"role\": \"system\", \"content\": sys_prompt},\n",
    "#         {\"role\": \"user\", \"content\": usr_prompt},\n",
    "#     ],\n",
    "#     response_format=ResponseFormat,\n",
    "# )\n",
    "# event = completion.choices[0].message.parsed"
   ]
  },
  {
   "cell_type": "code",
   "execution_count": null,
   "metadata": {},
   "outputs": [],
   "source": [
    "class SingleSlide(BaseModel):\n",
    "    Slide_Number: int\n",
    "    Slide_Title: str\n",
    "    Slide_Text: str\n",
    "    Image_Prompt: str\n",
    "\n",
    "\n",
    "class ResponseFormat(BaseModel):\n",
    "    slide: list[SingleSlide]\n",
    "\n",
    "\n",
    "class ResponseFormatBase(BaseModel):\n",
    "    text: str"
   ]
  },
  {
   "cell_type": "code",
   "execution_count": null,
   "metadata": {},
   "outputs": [],
   "source": [
    "def chat_completion(prompt: str, response_format):\n",
    "    client = OpenAI(api_key=api_key)\n",
    "    completion = client.beta.chat.completions.parse(\n",
    "        model=\"gpt-4o-mini\",\n",
    "        messages=[\n",
    "            {\"role\": \"user\", \"content\": prompt},\n",
    "        ],\n",
    "        response_format=response_format,\n",
    "    )\n",
    "    return completion.choices[0].message.parsed"
   ]
  },
  {
   "cell_type": "code",
   "execution_count": null,
   "metadata": {},
   "outputs": [],
   "source": [
    "from typing import TypeVar\n",
    "\n",
    "from pydantic import ValidationError\n",
    "\n",
    "T = TypeVar(\"T\", bound=BaseModel)\n",
    "\n",
    "\n",
    "def validate_response(response: T | None, cls: type[T]) -> T:\n",
    "    try:\n",
    "        return cls.model_validate(response)\n",
    "    except ValidationError as e:\n",
    "        print(f\"Error Validating response -> {response} \\n {e}\")\n",
    "        raise"
   ]
  },
  {
   "cell_type": "code",
   "execution_count": null,
   "metadata": {},
   "outputs": [
    {
     "name": "stdout",
     "output_type": "stream",
     "text": [
      "Error Validating response -> None \n",
      " 1 validation error for ResponseFormatBase\n",
      "  Input should be a valid dictionary or instance of ResponseFormatBase [type=model_type, input_value=None, input_type=NoneType]\n",
      "    For further information visit https://errors.pydantic.dev/2.9/v/model_type\n"
     ]
    },
    {
     "ename": "ValidationError",
     "evalue": "1 validation error for ResponseFormatBase\n  Input should be a valid dictionary or instance of ResponseFormatBase [type=model_type, input_value=None, input_type=NoneType]\n    For further information visit https://errors.pydantic.dev/2.9/v/model_type",
     "output_type": "error",
     "traceback": [
      "\u001b[1;31m---------------------------------------------------------------------------\u001b[0m",
      "\u001b[1;31mValidationError\u001b[0m                           Traceback (most recent call last)",
      "Cell \u001b[1;32mIn[36], line 3\u001b[0m\n\u001b[0;32m      1\u001b[0m \u001b[38;5;28;01mfrom\u001b[39;00m \u001b[38;5;21;01mprompts\u001b[39;00m \u001b[38;5;28;01mimport\u001b[39;00m first_prompt, second_prompt\n\u001b[0;32m      2\u001b[0m \u001b[38;5;66;03m#first_chat = validate_response(chat_completion(first_prompt, ResponseFormatBase), ResponseFormatBase)\u001b[39;00m\n\u001b[1;32m----> 3\u001b[0m first_chat \u001b[38;5;241m=\u001b[39m \u001b[43mvalidate_response\u001b[49m\u001b[43m(\u001b[49m\u001b[38;5;28;43;01mNone\u001b[39;49;00m\u001b[43m,\u001b[49m\u001b[43m \u001b[49m\u001b[43mResponseFormatBase\u001b[49m\u001b[43m)\u001b[49m\n\u001b[0;32m      4\u001b[0m second_chat \u001b[38;5;241m=\u001b[39m validate_response(chat_completion(second_prompt\u001b[38;5;241m+\u001b[39m\u001b[38;5;124m\"\u001b[39m\u001b[38;5;124m# Outline\u001b[39m\u001b[38;5;130;01m\\n\u001b[39;00m\u001b[38;5;124m\"\u001b[39m\u001b[38;5;241m+\u001b[39mfirst_chat\u001b[38;5;241m.\u001b[39mtext, ResponseFormat), ResponseFormat)\n",
      "Cell \u001b[1;32mIn[35], line 7\u001b[0m, in \u001b[0;36mvalidate_response\u001b[1;34m(response, cls)\u001b[0m\n\u001b[0;32m      5\u001b[0m \u001b[38;5;28;01mdef\u001b[39;00m \u001b[38;5;21mvalidate_response\u001b[39m(response: T \u001b[38;5;241m|\u001b[39m \u001b[38;5;28;01mNone\u001b[39;00m, \u001b[38;5;28mcls\u001b[39m: \u001b[38;5;28mtype\u001b[39m[T]) \u001b[38;5;241m-\u001b[39m\u001b[38;5;241m>\u001b[39m T:\n\u001b[0;32m      6\u001b[0m     \u001b[38;5;28;01mtry\u001b[39;00m:\n\u001b[1;32m----> 7\u001b[0m         \u001b[38;5;28;01mreturn\u001b[39;00m \u001b[38;5;28;43mcls\u001b[39;49m\u001b[38;5;241;43m.\u001b[39;49m\u001b[43mmodel_validate\u001b[49m\u001b[43m(\u001b[49m\u001b[43mresponse\u001b[49m\u001b[43m)\u001b[49m\n\u001b[0;32m      8\u001b[0m     \u001b[38;5;28;01mexcept\u001b[39;00m ValidationError \u001b[38;5;28;01mas\u001b[39;00m e:\n\u001b[0;32m      9\u001b[0m         \u001b[38;5;28mprint\u001b[39m(\u001b[38;5;124mf\u001b[39m\u001b[38;5;124m\"\u001b[39m\u001b[38;5;124mError Validating response -> \u001b[39m\u001b[38;5;132;01m{\u001b[39;00mresponse\u001b[38;5;132;01m}\u001b[39;00m\u001b[38;5;124m \u001b[39m\u001b[38;5;130;01m\\n\u001b[39;00m\u001b[38;5;124m \u001b[39m\u001b[38;5;132;01m{\u001b[39;00me\u001b[38;5;132;01m}\u001b[39;00m\u001b[38;5;124m\"\u001b[39m)\n",
      "File \u001b[1;32mc:\\Users\\NLSou\\Documents\\PyProj\\AI_Presentation_Maker\\.venv\\Lib\\site-packages\\pydantic\\main.py:596\u001b[0m, in \u001b[0;36mBaseModel.model_validate\u001b[1;34m(cls, obj, strict, from_attributes, context)\u001b[0m\n\u001b[0;32m    594\u001b[0m \u001b[38;5;66;03m# `__tracebackhide__` tells pytest and some other tools to omit this function from tracebacks\u001b[39;00m\n\u001b[0;32m    595\u001b[0m __tracebackhide__ \u001b[38;5;241m=\u001b[39m \u001b[38;5;28;01mTrue\u001b[39;00m\n\u001b[1;32m--> 596\u001b[0m \u001b[38;5;28;01mreturn\u001b[39;00m \u001b[38;5;28;43mcls\u001b[39;49m\u001b[38;5;241;43m.\u001b[39;49m\u001b[43m__pydantic_validator__\u001b[49m\u001b[38;5;241;43m.\u001b[39;49m\u001b[43mvalidate_python\u001b[49m\u001b[43m(\u001b[49m\n\u001b[0;32m    597\u001b[0m \u001b[43m    \u001b[49m\u001b[43mobj\u001b[49m\u001b[43m,\u001b[49m\u001b[43m \u001b[49m\u001b[43mstrict\u001b[49m\u001b[38;5;241;43m=\u001b[39;49m\u001b[43mstrict\u001b[49m\u001b[43m,\u001b[49m\u001b[43m \u001b[49m\u001b[43mfrom_attributes\u001b[49m\u001b[38;5;241;43m=\u001b[39;49m\u001b[43mfrom_attributes\u001b[49m\u001b[43m,\u001b[49m\u001b[43m \u001b[49m\u001b[43mcontext\u001b[49m\u001b[38;5;241;43m=\u001b[39;49m\u001b[43mcontext\u001b[49m\n\u001b[0;32m    598\u001b[0m \u001b[43m\u001b[49m\u001b[43m)\u001b[49m\n",
      "\u001b[1;31mValidationError\u001b[0m: 1 validation error for ResponseFormatBase\n  Input should be a valid dictionary or instance of ResponseFormatBase [type=model_type, input_value=None, input_type=NoneType]\n    For further information visit https://errors.pydantic.dev/2.9/v/model_type"
     ]
    }
   ],
   "source": [
    "from prompts import first_prompt, second_prompt\n",
    "\n",
    "first_chat = validate_response(\n",
    "    chat_completion(first_prompt, ResponseFormatBase), ResponseFormatBase,\n",
    ")\n",
    "second_chat = validate_response(\n",
    "    chat_completion(second_prompt + \"# Outline\\n\" + first_chat.text, ResponseFormat),\n",
    "    ResponseFormat,\n",
    ")"
   ]
  },
  {
   "cell_type": "code",
   "execution_count": 12,
   "metadata": {},
   "outputs": [
    {
     "name": "stdout",
     "output_type": "stream",
     "text": [
      "1->Introduction to AI in Development\n",
      "- AI is transforming software development by enhancing efficiency and creativity.  \n",
      "- Practical AI tools help streamline processes for developers.  \n",
      "- Objectives of this presentation:  \n",
      "  - Introduce AI tools helpful for developers.  \n",
      "  - Discuss real-world applications and benefits.\n",
      "An illustrated representation of AI technology surrounding a software developer, symbolizing the integration of artificial intelligence in daily coding tasks.\n",
      "\n",
      "2->Understanding AI Tools Available for Developers\n",
      "- AI tools automate repetitive tasks, enabling developers to focus on complex issues.  \n",
      "- Categories include:  \n",
      "  - Code assistance  \n",
      "  - Documentation tools  \n",
      "  - Data analysis platforms  \n",
      "- Benefits:  \n",
      "  - Improved efficiency  \n",
      "  - Enhanced productivity  \n",
      "  - Spur innovation in coding practices.\n",
      "Visual infographic showing various categories of AI tools relevant to developers, including icons for coding, documentation, and data analysis.\n",
      "\n",
      "3->Code Assistance Tools\n",
      "- **GitHub Copilot**:  \n",
      "  - Provides real-time code suggestions.  \n",
      "  - Compatible with a wide range of programming languages.  \n",
      "- **Tabnine**:  \n",
      "  - Delivers AI-driven code completions.  \n",
      "  - Boosts coding speed and enhances accuracy in writing code.\n",
      "A split-screen showing a software developer coding with GitHub Copilot suggestions on one side and Tabnine assisting in code completion on the other.\n",
      "\n",
      "4->Documentation and Knowledge Management\n",
      "- **NotebookLM**:  \n",
      "  - Automatically summarizes and organizes notes.  \n",
      "  - A powerful tool for effective project documentation.  \n",
      "- **OtterAI**:  \n",
      "  - Transcribes meetings and creates summaries.  \n",
      "  - Essential for collaborative decision-making and record-keeping.\n",
      "A collaborative workspace featuring digital notes being processed by NotebookLM and OtterAI transcribing a meeting in the background.\n",
      "\n",
      "5->Research and Information Gathering\n",
      "- **Perplexity**:  \n",
      "  - Enables instant retrieval of information.  \n",
      "  - Crucial for quick research while developing.  \n",
      "- Additional Tools:  \n",
      "  - **Kialo**:  \n",
      "  - Facilitates structured debates for informed decision-making.\n",
      "An open laptop displaying the Perplexity interface with a developer performing research, alongside a thought bubble showing structured arguments from Kialo.\n",
      "\n",
      "6->Debugging and Testing Enhancements\n",
      "- **Snyk**:  \n",
      "  - Detects vulnerabilities in code automatically.  \n",
      "  - Focuses on security and compliance measures in development.  \n",
      "- **Test.ai**:  \n",
      "  - Streamlines automated testing and bug detection.  \n",
      "  - Reduces time spent on manual testing processes.\n",
      "An illustration of a developer debugging code on a computer with Snyk and Test.ai logos prominently depicting their functions.\n",
      "\n",
      "7->Data Analysis and Management\n",
      "- **DataRobot**:  \n",
      "  - Offers automated machine learning capabilities for insights.  \n",
      "  - Simplifies the overall data workflow for developers.  \n",
      "- **BigML**:  \n",
      "  - Provides an easy-to-use interface for predictive analytics.  \n",
      "  - Empowers developers to make faster, data-driven decisions.\n",
      "A data visualization dashboard featuring DataRobot and BigML interfaces, showcasing analytics in a modern workspace.\n",
      "\n",
      "8->Chatbots and Virtual Assistants\n",
      "- **Dialogflow**:  \n",
      "  - Develops intelligent chatbots for enhanced customer support.  \n",
      "  - Improves user interaction in applications.  \n",
      "- **Microsoft Bot Framework**:  \n",
      "  - Comprehensive framework for building and connecting chatbots.  \n",
      "  - Versatile application across multiple platforms.\n",
      "A digital assistant chatbot interface from Dialogflow, engaging with users on a website, complemented by the Microsoft Bot Framework integration.\n",
      "\n",
      "9->Integrating AI into Development Workflows\n",
      "- Utilizing AI tools can significantly enhance development workflows.  \n",
      "- Case studies demonstrate effective use of AI in daily routines.  \n",
      "- Best Practices:  \n",
      "  - Start small with one tool before scaling.  \n",
      "  - Continuously evaluate the impact on productivity and efficiency.\n",
      "A flowchart showcasing best practices for integrating AI tools in development workflows, with examples of tools and their benefits.\n",
      "\n",
      "10->Conclusion and Q/A\n",
      "- Recap of AI tools discussed and their practical applications.  \n",
      "- Importance of ongoing education regarding AI advancements.  \n",
      "- Invite questions from the audience to encourage interaction and engagement.\n",
      "An engaging conclusion slide depicting a diverse group of developers discussing and asking questions about AI tools in a collaborative atmosphere.\n",
      "\n"
     ]
    }
   ],
   "source": [
    "for i in second_chat.slide:\n",
    "    print(f\"{i.Slide_Number}->{i.Slide_Title}\\n{i.Slide_Text}\\n{i.Image_Prompt}\\n\")"
   ]
  },
  {
   "cell_type": "markdown",
   "metadata": {},
   "source": [
    "## Function to create images with Stable Diffusion\n",
    "\n",
    "Using a local Stable Diffusion API to create the images, currently WebUI Forge."
   ]
  },
  {
   "cell_type": "code",
   "execution_count": null,
   "metadata": {},
   "outputs": [],
   "source": [
    "import base64\n",
    "from pathlib import Path\n",
    "\n",
    "import requests\n",
    "\n",
    "# Define the URL and the payload to send.\n",
    "url = \"http://127.0.0.1:7860\"\n",
    "\n",
    "\n",
    "def imagecreator(prompt: str, name: str, width: int, height: int) -> None:\n",
    "    \"\"\"Access local Stable Diffusion to create images.\n",
    "\n",
    "    Args:\n",
    "        prompt (str): prompt for image creation\n",
    "        name (str): Name of the resulting image\n",
    "        width (int): Image Width\n",
    "        height (int): Image Height\n",
    "\n",
    "    \"\"\"\n",
    "    payload = {\n",
    "        \"prompt\": prompt,\n",
    "        \"steps\": 20,\n",
    "        \"sampler_name\": \"DPM++ 2M\",\n",
    "        \"scheduler\": \"Beta\",\n",
    "        \"cfg_scale\": 1,\n",
    "        \"width\": width,\n",
    "        \"height\": height,\n",
    "    }\n",
    "\n",
    "    # Send said payload to said URL through the API.\n",
    "    response = requests.post(url=f\"{url}/sdapi/v1/txt2img\", json=payload, timeout=300)\n",
    "    r = response.json()\n",
    "\n",
    "    # Decode and save the image.\n",
    "    with Path(f\"images/{name}.png\").open(\"wb\") as f:\n",
    "        f.write(base64.b64decode(r[\"images\"][0]))"
   ]
  },
  {
   "cell_type": "markdown",
   "metadata": {},
   "source": [
    "## Create a PPTX with the responses generated with ChatGPT and the Stable Diffusion images\n",
    "\n",
    "Using [Python-pptx](https://python-pptx.readthedocs.io/en/latest/index.html) for PowerPoint creation"
   ]
  },
  {
   "cell_type": "code",
   "execution_count": null,
   "metadata": {},
   "outputs": [],
   "source": [
    "from pptx import Presentation\n",
    "from pptx.util import Inches\n",
    "\n",
    "prs = Presentation()\n",
    "bullet_slide_layout = prs.slide_layouts[1]\n",
    "\n",
    "for i in second_chat.slide:\n",
    "    slide = prs.slides.add_slide(bullet_slide_layout)\n",
    "    shapes = slide.shapes\n",
    "\n",
    "    # Add background image\n",
    "    left = top = Inches(0)\n",
    "    slide_width = prs.slide_width\n",
    "    slide_height = prs.slide_height\n",
    "\n",
    "    imagecreator(i.visual + \"NO TEXT\", i.title, 955, 537)\n",
    "    pic = slide.shapes.add_picture(\n",
    "        str(Path(f\"images/{i.title}.png\")),\n",
    "        left,\n",
    "        top,\n",
    "        slide_width,\n",
    "        slide_height,\n",
    "    )\n",
    "\n",
    "    # Add Text\n",
    "    title_shape = shapes.title\n",
    "    body_shape = shapes.placeholders[1]\n",
    "\n",
    "    title_shape.text = i.title\n",
    "\n",
    "    tf = body_shape.text_frame\n",
    "    tf.text = i.content\n",
    "\n",
    "\n",
    "prs.save(\"test.pptx\")"
   ]
  },
  {
   "cell_type": "code",
   "execution_count": null,
   "metadata": {},
   "outputs": [],
   "source": []
  }
 ],
 "metadata": {
  "kernelspec": {
   "display_name": ".venv",
   "language": "python",
   "name": "python3"
  },
  "language_info": {
   "codemirror_mode": {
    "name": "ipython",
    "version": 3
   },
   "file_extension": ".py",
   "mimetype": "text/x-python",
   "name": "python",
   "nbconvert_exporter": "python",
   "pygments_lexer": "ipython3",
   "version": "3.13.0"
  }
 },
 "nbformat": 4,
 "nbformat_minor": 2
}
