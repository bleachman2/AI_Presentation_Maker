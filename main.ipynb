{
 "cells": [
  {
   "cell_type": "markdown",
   "metadata": {},
   "source": [
    "# Power Point Presentation maker"
   ]
  },
  {
   "cell_type": "markdown",
   "metadata": {},
   "source": [
    "## Configs\n",
    "Load the Api keys from the environment, and create some basic util functions"
   ]
  },
  {
   "cell_type": "code",
   "execution_count": null,
   "metadata": {},
   "outputs": [],
   "source": [
    "from __future__ import annotations\n",
    "\n",
    "import os\n",
    "\n",
    "from dotenv import load_dotenv\n",
    "\n",
    "load_dotenv()\n",
    "api_key = os.environ.get(\"OPENAI_API_KEY\")\n",
    "if not api_key:\n",
    "    msg = \"Missing API_KEY\"\n",
    "    raise OSError(msg)"
   ]
  },
  {
   "cell_type": "code",
   "execution_count": null,
   "metadata": {},
   "outputs": [],
   "source": [
    "import string\n",
    "\n",
    "\n",
    "def remove_punctuation(text: str) -> str:\n",
    "    translator = str.maketrans(\"\", \"\", string.punctuation)\n",
    "    return text.translate(translator)"
   ]
  },
  {
   "cell_type": "markdown",
   "metadata": {},
   "source": [
    "## Using OpenAI chat with structured Format to get the PPT content\n",
    "\n",
    "[OpenAI docs - structured format](https://platform.openai.com/docs/guides/structured-outputs)\n",
    "[Pydantic](https://docs.pydantic.dev/latest/) is being used to pass a Structured Format to OpenAI in order to receive correctly formatted response. "
   ]
  },
  {
   "cell_type": "code",
   "execution_count": null,
   "metadata": {},
   "outputs": [],
   "source": [
    "from pydantic import BaseModel\n",
    "\n",
    "\n",
    "class SingleSlide(BaseModel):\n",
    "    Slide_Number: int\n",
    "    Slide_Title: str\n",
    "    Slide_Text: str\n",
    "    Image_Prompt: str\n",
    "\n",
    "\n",
    "class ResponseFormat(BaseModel):\n",
    "    slide: list[SingleSlide]\n",
    "\n",
    "\n",
    "class ResponseFormatBase(BaseModel):\n",
    "    text: str"
   ]
  },
  {
   "cell_type": "code",
   "execution_count": null,
   "metadata": {},
   "outputs": [],
   "source": [
    "from typing import TypeVar\n",
    "\n",
    "from pydantic import ValidationError\n",
    "\n",
    "T = TypeVar(\"T\", bound=BaseModel)\n",
    "\n",
    "\n",
    "def validate_response(response: T | None, cls: type[T]) -> T:\n",
    "    try:\n",
    "        return cls.model_validate(response)\n",
    "    except ValidationError as e:\n",
    "        print(f\"Error Validating response -> {response} \\n {e}\")\n",
    "        raise"
   ]
  },
  {
   "cell_type": "code",
   "execution_count": null,
   "metadata": {},
   "outputs": [],
   "source": [
    "from openai import OpenAI\n",
    "\n",
    "\n",
    "def chat_completion(prompt: str, response_format: type[T]) -> T | None:\n",
    "    client = OpenAI(api_key=api_key)\n",
    "    completion = client.beta.chat.completions.parse(\n",
    "        model=\"gpt-4o-mini\",\n",
    "        messages=[\n",
    "            {\"role\": \"user\", \"content\": prompt},\n",
    "        ],\n",
    "        response_format=response_format,\n",
    "    )\n",
    "    return completion.choices[0].message.parsed"
   ]
  },
  {
   "cell_type": "markdown",
   "metadata": {},
   "source": [
    "## Prompts\n",
    "2 Prompts are being used to generate the response, the first generates a PPT outline, and the second uses that outline to generate the PPT content"
   ]
  },
  {
   "cell_type": "code",
   "execution_count": null,
   "metadata": {},
   "outputs": [],
   "source": [
    "from prompts import first_prompt, second_prompt\n",
    "\n",
    "first_chat = validate_response(\n",
    "    chat_completion(first_prompt, ResponseFormatBase),\n",
    "    ResponseFormatBase,\n",
    ")\n",
    "second_chat = validate_response(\n",
    "    chat_completion(second_prompt + \"# Outline\\n\" + first_chat.text, ResponseFormat),\n",
    "    ResponseFormat,\n",
    ")"
   ]
  },
  {
   "cell_type": "code",
   "execution_count": null,
   "metadata": {},
   "outputs": [],
   "source": [
    "for i in second_chat.slide:\n",
    "    print(f\"{i.Slide_Number}->{i.Slide_Title}\\n{i.Slide_Text}\\n{i.Image_Prompt}\\n\")"
   ]
  },
  {
   "cell_type": "markdown",
   "metadata": {},
   "source": [
    "## Function to create images with Stable Diffusion\n",
    "\n",
    "Using a local Stable Diffusion API to create the images, currently using the [WebUI Forge API](https://github.com/lllyasviel/stable-diffusion-webui-forge)."
   ]
  },
  {
   "cell_type": "code",
   "execution_count": null,
   "metadata": {},
   "outputs": [],
   "source": [
    "import base64\n",
    "from pathlib import Path\n",
    "\n",
    "import requests\n",
    "\n",
    "# Define the URL and the payload to send.\n",
    "url = \"http://127.0.0.1:7860\"\n",
    "\n",
    "\n",
    "def imagecreator(prompt: str, name: str, width: int, height: int) -> None:\n",
    "    \"\"\"Access local Stable Diffusion to create images.\n",
    "\n",
    "    Args:\n",
    "        prompt (str): prompt for image creation\n",
    "        name (str): Name of the resulting image\n",
    "        width (int): Image Width\n",
    "        height (int): Image Height\n",
    "\n",
    "    \"\"\"\n",
    "    payload = {\n",
    "        \"prompt\": prompt,\n",
    "        \"styles\": [\"Avant-garde\"],\n",
    "        \"steps\": 20,\n",
    "        \"sampler_name\": \"DPM++ 2M\",\n",
    "        \"scheduler\": \"Beta\",\n",
    "        \"cfg_scale\": 1,\n",
    "        \"width\": width,\n",
    "        \"height\": height,\n",
    "    }\n",
    "\n",
    "    # Send said payload to said URL through the API.\n",
    "    response = requests.post(url=f\"{url}/sdapi/v1/txt2img\", json=payload, timeout=300)\n",
    "    r = response.json()\n",
    "\n",
    "    # Decode and save the image.\n",
    "    with Path(f\"images/{name}.png\").open(\"wb\") as f:\n",
    "        f.write(base64.b64decode(r[\"images\"][0]))"
   ]
  },
  {
   "cell_type": "markdown",
   "metadata": {},
   "source": [
    "## Create a PPTX with the responses generated with ChatGPT and the Stable Diffusion images\n",
    "\n",
    "Using the [Python-pptx](https://python-pptx.readthedocs.io/en/latest/index.html) library for PowerPoint creation"
   ]
  },
  {
   "cell_type": "markdown",
   "metadata": {},
   "source": [
    "Check Available Layouts"
   ]
  },
  {
   "cell_type": "code",
   "execution_count": null,
   "metadata": {},
   "outputs": [],
   "source": [
    "from pptx import Presentation\n",
    "\n",
    "prs = Presentation()\n",
    "for idx, layout in enumerate(prs.slide_layouts):\n",
    "    print(f\"{idx}: {layout.name}\")"
   ]
  },
  {
   "cell_type": "markdown",
   "metadata": {},
   "source": [
    "# PPT Creation\n",
    "The Previous OpenAI chat returned a Title, Text and a prompt for image creation\n",
    "This information is being added to basic empty slides\n",
    "\n",
    "## Manual Step\n",
    "After the PPT is created, the PPT is getting manually opened and the slides are organized using the designer option inside the software"
   ]
  },
  {
   "cell_type": "code",
   "execution_count": null,
   "metadata": {},
   "outputs": [],
   "source": [
    "from pptx import Presentation\n",
    "from pptx.util import Inches\n",
    "\n",
    "prs = Presentation()\n",
    "title_slide_layout = prs.slide_layouts[0]\n",
    "\n",
    "for ai_slide in second_chat.slide:\n",
    "    slide = prs.slides.add_slide(title_slide_layout)\n",
    "\n",
    "    # Remove Punctuation from title\n",
    "    slide_title = remove_punctuation(ai_slide.Slide_Title)\n",
    "\n",
    "    # Add background image\n",
    "    left = top = Inches(0)\n",
    "    slide_width = prs.slide_width\n",
    "    slide_height = prs.slide_height\n",
    "    # Create Image\n",
    "    imagecreator(\n",
    "        ai_slide.Image_Prompt,\n",
    "        slide_title,\n",
    "        955,\n",
    "        537,\n",
    "    )\n",
    "    # Add Image to slide\n",
    "    pic = slide.shapes.add_picture(\n",
    "        str(Path(f\"images/{slide_title}.png\")),\n",
    "        left,\n",
    "        top,\n",
    "        slide_width,\n",
    "        slide_height,\n",
    "    )\n",
    "\n",
    "    # Add Text\n",
    "    title_shape = slide.shapes.title\n",
    "    if title_shape is None:\n",
    "        msg = \"Shape is None\"\n",
    "        raise ValueError(msg)\n",
    "    title_shape.text = ai_slide.Slide_Title\n",
    "\n",
    "    body_shape = slide.shapes.placeholders[1]\n",
    "    tf = body_shape.text_frame  # type: ignore[reportAttributeAccessIssue]\n",
    "    tf.text = ai_slide.Slide_Text\n",
    "\n",
    "\n",
    "prs.save(\"test.pptx\")"
   ]
  },
  {
   "cell_type": "code",
   "execution_count": null,
   "metadata": {},
   "outputs": [],
   "source": []
  }
 ],
 "metadata": {
  "kernelspec": {
   "display_name": ".venv",
   "language": "python",
   "name": "python3"
  },
  "language_info": {
   "codemirror_mode": {
    "name": "ipython",
    "version": 3
   },
   "file_extension": ".py",
   "mimetype": "text/x-python",
   "name": "python",
   "nbconvert_exporter": "python",
   "pygments_lexer": "ipython3",
   "version": "3.13.0"
  }
 },
 "nbformat": 4,
 "nbformat_minor": 2
}
